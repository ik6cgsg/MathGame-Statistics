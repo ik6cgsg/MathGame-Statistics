{
 "cells": [
  {
   "cell_type": "markdown",
   "metadata": {},
   "source": [
    "# Импорт"
   ]
  },
  {
   "cell_type": "code",
   "execution_count": 1,
   "metadata": {},
   "outputs": [],
   "source": [
    "import pandas as pd\n",
    "import numpy as np\n",
    "import matplotlib.pyplot as plt"
   ]
  },
  {
   "cell_type": "markdown",
   "metadata": {},
   "source": [
    "# Глобальные константы\n",
    "* levels_count - количество уровней за 2 итерации\n",
    "* non_valid_ips - ip адреса, которые должны быть отсечены\n",
    "* non_valid_hdid - устройства, которые должны быть отсечены для сбора статистики "
   ]
  },
  {
   "cell_type": "code",
   "execution_count": 2,
   "metadata": {},
   "outputs": [],
   "source": [
    "levels_count = 21 + 22\n",
    "non_valid_ips = [\n",
    "    '178.71.128.254',\n",
    "    '81.200.120.104',\n",
    "    '217.66.159.55',\n",
    "    '92.100.108.227',\n",
    "    '78.140.203.202',\n",
    "    '81.200.120.52',\n",
    "    '217.66.159.130',\n",
    "    '81.200.120.34',\n",
    "    '93.185.30.8',\n",
    "    '146.120.75.64',\n",
    "    '83.102.203.123',\n",
    "    '83.102.203.252',\n",
    "    '188.170.78.68',\n",
    "    '178.70.231.205',\n",
    "    ''\n",
    "]\n",
    "non_vaild_hdid = [\n",
    "    '8e5604af-99db-47a5-b5e9-465040486690',\n",
    "    '392b661b-f6c8-4686-928a-30318a870343',\n",
    "    'be7125c7-c1a9-44b1-b1e8-f46e27b3b07e',\n",
    "    'fd85bf04-e899-441d-a2e6-cc26ca7360b7',\n",
    "    'd6ce40ec-93af-4b85-82f4-bac4860fffa2',\n",
    "    'be24a7a4-d904-48ad-b08d-f1bb5bd96523',\n",
    "    '2750bc42-702e-4cbe-bae5-798f171389e1',\n",
    "    'ca02a2c6-1202-4d45-9a76-3a20f8333a41',\n",
    "    '781d80dd-810d-42cc-bc98-fccbf16a3e38',\n",
    "    'd520c7a8-421b-4563-b955-f5abc56b97ec',\n",
    "     ''\n",
    "]"
   ]
  },
  {
   "cell_type": "markdown",
   "metadata": {},
   "source": [
    "# Настройки pandas"
   ]
  },
  {
   "cell_type": "code",
   "execution_count": 3,
   "metadata": {},
   "outputs": [],
   "source": [
    "pd.set_option('display.max_rows', None)\n",
    "pd.set_option('display.max_columns', None)\n",
    "pd.set_option('display.max_colwidth', None)\n",
    "pd.set_option('display.width', None)"
   ]
  },
  {
   "cell_type": "markdown",
   "metadata": {},
   "source": [
    "# Считывание и фильтрация\n",
    "* math_game_log.csv - выкаченная полностью таблица с https://mathhelper.space:5432 (25.04.2020)\n",
    "* math_game_log_2.csv - выкаченная полностью таблица с https://mathhelper.space:5432 (02.05.2020)"
   ]
  },
  {
   "cell_type": "code",
   "execution_count": 4,
   "metadata": {},
   "outputs": [],
   "source": [
    "math_log = pd.read_csv(\"math_game_log_2.csv\", low_memory=False, dtype={\n",
    "    \"id\": int,\n",
    "    \"game\": str,\n",
    "    \"action\": str,\n",
    "    \"comment\": str,\n",
    "    \"device_ts\": int,\n",
    "    \"server_ts\": int,\n",
    "    \"create_date_time\": object,\n",
    "    \"user_game_identifier\": str,\n",
    "    \"login\": str,\n",
    "    \"name\": str,\n",
    "    \"surname\": str,\n",
    "    \"second_name\": str,\n",
    "    \"group\": str,\n",
    "    \"institution\": str,\n",
    "    \"age\": str,\n",
    "    \"user_mark\": float,\n",
    "    \"user_comment\": str,\n",
    "    \"total_time_mult_coef\": str,\n",
    "    \"total_award_mult_coef\": str,\n",
    "    \"ip\": str,\n",
    "    \"hardware_device_id\": str,\n",
    "    \"hardware_speed_coef\": str,\n",
    "    \"hardware_properties\": str,\n",
    "    \"task_id\": int,\n",
    "    \"task_type\": str,\n",
    "    \"total_time_ms\": int,\n",
    "    \"difficulty\": float,\n",
    "    \"min_steps\": int,\n",
    "    \"award_coefs\": str,\n",
    "    \"show_wrong_rules\": str,\n",
    "    \"show_subst_result\": str,\n",
    "    \"undo_considering_policy\": str,\n",
    "    \"long_expression_cropping_policy\": str,\n",
    "    \"curr_time_ms\": int,\n",
    "    \"time_from_last_action_ms\": int,\n",
    "    \"curr_steps_number\": float,\n",
    "    \"next_steps_number\": float,\n",
    "    \"sub_actions_number\": int,\n",
    "    \"sub_actions_after_last_transformation\": int,\n",
    "    \"left_time_ms\": int,\n",
    "    \"left_lives\": int,\n",
    "    \"curr_award_coef\": float,\n",
    "    \"curr_rule\": str,\n",
    "    \"curr_selected_place\": str,\n",
    "    \"curr_expression\": str,\n",
    "    \"next_expression\": str,\n",
    "    \"end_expression_hide\": str,\n",
    "    \"expression_size\": float\n",
    "})\n",
    "math_log.query(\"ip not in @non_valid_ips and hardware_device_id not in @non_vaild_hdid\",\n",
    "                inplace=True)\n",
    "math_log.query(\"game == 'MathGame_IK_an'\", inplace=True)"
   ]
  },
  {
   "cell_type": "markdown",
   "metadata": {},
   "source": [
    "# Сценарии\n",
    "## Оценки пользователей\n",
    "Вопрос - пользовались ли студенты оценками и что же они поставили?"
   ]
  },
  {
   "cell_type": "code",
   "execution_count": 5,
   "metadata": {
    "scrolled": false
   },
   "outputs": [
    {
     "name": "stdout",
     "output_type": "stream",
     "text": [
      "~~~~~~~~~~~~~~~~~~~~~~~~~~~~ Stats ~~~~~~~~~~~~~~~~~~~~~~~~~~~~\n",
      "count    12.000000\n",
      "mean      4.541667\n",
      "std       0.782140\n",
      "min       3.000000\n",
      "25%       4.375000\n",
      "50%       5.000000\n",
      "75%       5.000000\n",
      "max       5.000000\n",
      "Name: user_mark, dtype: float64\n"
     ]
    },
    {
     "data": {
      "text/plain": [
       "<matplotlib.axes._subplots.AxesSubplot at 0x155dd98efc8>"
      ]
     },
     "execution_count": 5,
     "metadata": {},
     "output_type": "execute_result"
    },
    {
     "data": {
      "image/png": "[encoded data removed]",
      "text/plain": [
       "<Figure size 432x288 with 1 Axes>"
      ]
     },
     "metadata": {},
     "output_type": "display_data"
    }
   ],
   "source": [
    "signs: pd.DataFrame = math_log.query(\"action == 'mark'\")\n",
    "#print(\"~~~~~~~~~~~~~~~~~~~~~~~~~~~~ All marks ~~~~~~~~~~~~~~~~~~~~~~~~~~~~\")\n",
    "#print(signs[[\"user_game_identifier\", \"user_mark\", \"user_comment\"]])\n",
    "print(\"~~~~~~~~~~~~~~~~~~~~~~~~~~~~ Stats ~~~~~~~~~~~~~~~~~~~~~~~~~~~~\")\n",
    "print(signs[\"user_mark\"].describe())\n",
    "fd: pd.DataFrame = signs.drop([\"user_game_identifier\", \"user_comment\"], axis=1)\\\n",
    "    .groupby(\"user_mark\", as_index=False).size()\n",
    "fd.name = \"Оценки игроков\"\n",
    "fd.plot.pie()"
   ]
  },
  {
   "cell_type": "markdown",
   "metadata": {
    "pycharm": {
     "name": "#%% md\n"
    }
   },
   "source": [
    "## Bug reports\n",
    "Пользовались ли игроки данной опцией?"
   ]
  },
  {
   "cell_type": "code",
   "execution_count": 6,
   "metadata": {
    "pycharm": {
     "name": "#%%\n"
    }
   },
   "outputs": [
    {
     "name": "stdout",
     "output_type": "stream",
     "text": [
      "~~~~~~~~~~~~~~~~~~~~~~~~~~~~ All reports ~~~~~~~~~~~~~~~~~~~~~~~~~~~~\n",
      "                                                         user_game_identifier  \\\n",
      "118667  burkov.ap_Алексей_Бурков_Петрович_363010280004_СПБПУ___MathGame_IK_an   \n",
      "211459      Neroican_Дмитрий_Анфиногентов__363010280003_ИПММ___MathGame_IK_an   \n",
      "268667      Neroican_Дмитрий_Анфиногентов__363010280003_ИПММ___MathGame_IK_an   \n",
      "\n",
      "                                                 user_comment  \n",
      "118667     Каким-то образом получилось 25.3 шага в 15 уровне.  \n",
      "211459                 Не отображаются медали за прохождение.  \n",
      "268667  Прошел 17-ый уровень за 58.5 шагов (баг с подсчетом?)  \n"
     ]
    }
   ],
   "source": [
    "reports: pd.DataFrame = math_log.query(\"action == 'problem'\")\n",
    "print(\"~~~~~~~~~~~~~~~~~~~~~~~~~~~~ All reports ~~~~~~~~~~~~~~~~~~~~~~~~~~~~\")\n",
    "print(reports[[\"user_game_identifier\", \"user_comment\"]])"
   ]
  },
  {
   "cell_type": "markdown",
   "metadata": {
    "pycharm": {
     "name": "#%% md\n"
    }
   },
   "source": [
    "## Zoom\n",
    "Пользовались ли функцией приближения?\n",
    "\n",
    "Для **user_game_identifier** считаем количество разных размеров центрального выражения.\n",
    "Далее посчитаем отношение количества строк, где это количество > 1 (размер менялся игроком), к количеству всех строк.\n",
    "Таким образом, получим сколько процентов игроков пользовались зумом."
   ]
  },
  {
   "cell_type": "code",
   "execution_count": 7,
   "metadata": {
    "pycharm": {
     "name": "#%%\n"
    }
   },
   "outputs": [
    {
     "name": "stdout",
     "output_type": "stream",
     "text": [
      "Zoom usage: 50.0 %\n"
     ]
    }
   ],
   "source": [
    "zoom: pd.DataFrame = math_log.query(\"expression_size != 0\").copy()\n",
    "users: pd.DataFrame = zoom[[\"user_game_identifier\", \"expression_size\", \"task_id\"]]\\\n",
    "    .groupby([\"user_game_identifier\", \"expression_size\"], as_index=False)\n",
    "grouped: pd.DataFrame = users.size()\n",
    "zoom_usage: pd.DataFrame = grouped.groupby([\"user_game_identifier\"]).size().reset_index(name=\"count\")\n",
    "series_obj = zoom_usage.apply(lambda x: x[\"count\"] > 1, axis=1)\n",
    "zoom_used = len(series_obj[series_obj == True].index)\n",
    "print(\"Zoom usage: %s %%\" % (zoom_used / zoom_usage.shape[0] * 100))"
   ]
  },
  {
   "cell_type": "markdown",
   "metadata": {
    "pycharm": {
     "name": "#%% md\n"
    }
   },
   "source": [
    "## Обучает ли игра?\n",
    "Рассмотрим следующий коэффициент: отношение медианы времени прохождения уровня к минимальному времени его прохождения в квадрате.  \n",
    "Уменьшение этого коэффициента ближе к концу игры будет говорить об эффективности обучения игры. \n",
    "\n",
    "Сначала найдем ценных игроков (пусть это будут игроки, прошедшие 30% от уровней 2 итераций)"
   ]
  },
  {
   "cell_type": "code",
   "execution_count": 8,
   "metadata": {
    "pycharm": {
     "name": "#%%\n"
    }
   },
   "outputs": [
    {
     "name": "stdout",
     "output_type": "stream",
     "text": [
      "1                                 100500vik_viktor_gerasimenko_gerasimenko_363010280002_IPMM___MathGame_IK_an\n",
      "3                                                         Ari_Анастасия_Мальцева__80002_ИПММ___MathGame_IK_an\n",
      "4                                      ArinaZz_Arina_Zykova_Vyacheslavovna_363010280003_ИПММ___MathGame_IK_an\n",
      "6                                    Dannikk_Nikita_Danilov_Aleksandrovich_363010280003_IAMM___MathGame_IK_an\n",
      "7                                     DariaWelt_Daria_Smirnova__1_Applied_Math_and_Mechanic____MathGame_IK_an\n",
      "8                                                 EvilHonda666_Egor_Mikhaylov__80003_3630102___MathGame_IK_an\n",
      "9                                        GameD_M_Захар_Саранин_Алексеевич_363010280003_СПбПУ___MathGame_IK_an\n",
      "10                                                Greta_Tuborg_Arseny_Velichko__3630102_IAMM___MathGame_IK_an\n",
      "11                                        KhripunkovDV_Дмитрий_Хрипунков__363010280001_СПБПУ___MathGame_IK_an\n",
      "12    MekhailS_Mikhail_Shagvaliev_Alexandrovich_363010280002_SPB_Polytechnic_university_IAMM___MathGame_IK_an\n",
      "14                                                 Nelli_Nelli_Gallyamova__363010280001_ИПММ___MathGame_IK_an\n",
      "18                               TatianaIavoruk_Tatiana_Iavoruk__363010280002_IAMM__polytech___MathGame_IK_an\n",
      "21                                                   Vitaliy_Vitaliy_Baksheev__363010280001____MathGame_IK_an\n",
      "22                                                                      Xst_Илья_Бочкарёв______MathGame_IK_an\n",
      "23                                                   _DanilOvechkin_Danil_Ovechkin__2_SPBSTU___MathGame_IK_an\n",
      "24                                                         _Drus_Андрей_Иванов_Игоревич_3_ПУ___MathGame_IK_an\n",
      "26                                            anastasia.sm_Anastasia_Semenova__363010280001____MathGame_IK_an\n",
      "27                                 artem.s.koshkin@gmail.com_Artem_Koshkin__2_IPMM__Politech___MathGame_IK_an\n",
      "30                                               besperspektivnk_Elizaveta_Grishina__2_SPBPU___MathGame_IK_an\n",
      "31                                       burkov.ap_Алексей_Бурков_Петрович_363010280004_ИПММ___MathGame_IK_an\n",
      "32                                      burkov.ap_Алексей_Бурков_Петрович_363010280004_СПБПУ___MathGame_IK_an\n",
      "33                                     burkovap_Алексей_Бурков_Петрович_363010280004_Политех___MathGame_IK_an\n",
      "34                                           cassiopeia_Anastasia_Mamaeva__363010280001_IPMM___MathGame_IK_an\n",
      "35                                         dariadr_Дарья_Дроздова_Дроздова_363010280001_ИПММ___MathGame_IK_an\n",
      "36                                        derkanw_Анна_Деркаченко_Олеговна_363010280001_ИПММ___MathGame_IK_an\n",
      "37                                dmitroved__Дмитрий__Веденичев__Александрович_363010280003____MathGame_IK_an\n",
      "41                                        karimov.ar@edu.spbstu.ru_Аскар_Каримов__80003_ипмм___MathGame_IK_an\n",
      "42                                            kirillkuks_Кирилл_Куксенко__363010280003_СПбПУ___MathGame_IK_an\n",
      "43                                      kozlov992_Boris_Kozlov_Valeryevich_363010280001_IAMM___MathGame_IK_an\n",
      "45                                                    levybin_Ле_Ву_Бинь__363010280004_SPBPU___MathGame_IK_an\n",
      "46                                                  liza_Елизавета_Панова__363010280001_ИПММ___MathGame_IK_an\n",
      "47                                                    logmeinplease_Яков_Караев_Гейдарович_____MathGame_IK_an\n",
      "48                                     loxman98_Ярослав_Тырыкин_Алексеевич_363010280001_ипмм___MathGame_IK_an\n",
      "49                                                   puzo_Михаил_Келарев__363010280004_СПБПУ___MathGame_IK_an\n",
      "50                                                 ref_Александр__Можаев__363010280004_SPBPU___MathGame_IK_an\n",
      "51                                        shao.ts@edu.spbstu.ru_Цзяци_Шао__363010280004_ИМПП___MathGame_IK_an\n",
      "52                                          solok_Александр__Колосков_Олегович_80001_1360102___MathGame_IK_an\n",
      "53                                                           sqrtyyy_Алексей_Антонов__1_ИПММ___MathGame_IK_an\n",
      "56                                                    tim-sania2008_Александр_Тимофеев__3_ПУ___MathGame_IK_an\n",
      "57                                                    tim-sania2008_александр_Тимофеев__3_ПУ___MathGame_IK_an\n",
      "58                                          trotshenkov.is_Иван_Трощенков__363010280003_ИПММ___MathGame_IK_an\n",
      "59                                 vojnova.ai@edu.spbstu.ru_Алёна_Войнова__363010280001_ИПММ___MathGame_IK_an\n",
      "60                                        yarik_Ярослав_Тырыкин_Алексеевич_363010280001_ИПММ___MathGame_IK_an\n",
      "61                                          yupichkin_Yampil_Darizhapov__363010280001_spbstu___MathGame_IK_an\n",
      "62                                  Аникин_Александр_Алексеевич_/3_ПУ_Александр_Аникин__3_ПУ___MathGame_IK_an\n",
      "63                                                    Олег_Олег_Алексеев__363010280003_СПбПУ___MathGame_IK_an\n",
      "64                                                           Таисия_Таисия_Харисова__3_Ипмм____MathGame_IK_an\n",
      "65                                                      дед_Илья_Чепиков__363010280004_СПБПУ___MathGame_IK_an\n",
      "Name: user_game_identifier, dtype: object\n"
     ]
    }
   ],
   "source": [
    "value = 0.3\n",
    "wins: pd.DataFrame = math_log.query(\"action == 'win'\").copy()\n",
    "winners: pd.DataFrame = wins.groupby([\"user_game_identifier\", \"task_id\"]).size().reset_index(name=\"wins_count\")\n",
    "winners_stat: pd.DataFrame = winners.groupby([\"user_game_identifier\"]).size().reset_index(name=\"levels_passed\")\n",
    "valuable_players = winners_stat[winners_stat['levels_passed'] > levels_count * value]\n",
    "print(valuable_players[\"user_game_identifier\"])\n",
    "valuable_players_list = valuable_players[\"user_game_identifier\"].tolist()"
   ]
  },
  {
   "cell_type": "markdown",
   "metadata": {
    "pycharm": {
     "name": "#%% md\n"
    }
   },
   "source": [
    "Среди эти игроков посмотрим статистику побед.\n",
    "Посмотрим за какое время (в секундах) в среднем проходился каждый уровень и разобьем на 2 итерации:\n",
    "1. Уровни с task_id из [100, 120]  \n",
    "    1.1. В виду ошибки составления уровней, их task_id перемешались, поэтому для восстановления игрового порядка этих уровней необхожимо применить переиндексацию\n",
    "2. Уровни с task_id из [1000, 1022]  \n",
    "    2.1. В виду ошибки в 4 правилах на \"\\\" ~> \"->\" 12, 13, 17 и 18 уровни можно было решить в 3 шага, хотя на самом деле нужно гораздо больше. Для 12 и 13 удалось понять минимальные значения, для 17 и 18 увы нет....\n",
    "\n",
    "Для первой итерации переиндексируем уровни в соответствии с их порядком в игре."
   ]
  },
  {
   "cell_type": "code",
   "execution_count": 9,
   "metadata": {
    "pycharm": {
     "name": "#%%\n"
    },
    "scrolled": false
   },
   "outputs": [
    {
     "name": "stdout",
     "output_type": "stream",
     "text": [
      "~~~~~~~~~~~~~~~~~~~~~~~~~~~~~~~~~~~ First iteration ~~~~~~~~~~~~~~~~~~~~~~~~~~~~~~~~~~~\n",
      "    task_id  time_coeff  step_coeff\n",
      "0       100    1.242554    1.000000\n",
      "1       101    0.250463    0.240000\n",
      "4       104    0.118609    0.166667\n",
      "5       105    0.087147    0.166667\n",
      "6       106    0.076969    0.240000\n",
      "7       107    0.228658    0.333333\n",
      "11      111    0.254580    0.333333\n",
      "12      112    0.085347    0.250000\n",
      "13      113    0.068632    0.333333\n",
      "20      120    0.216006    0.388889\n",
      "18      118    0.127615    0.333333\n",
      "3       103    0.048935    0.240000\n",
      "9       109    0.094164    0.200000\n",
      "8       108    0.093179    0.166667\n",
      "10      110    0.111937    0.312500\n",
      "14      114    0.042881    0.142857\n",
      "16      116    0.115214    0.312500\n",
      "2       102    0.017772    0.132812\n",
      "17      117    0.046702    0.142857\n",
      "15      115    0.043993    0.106198\n",
      "19      119    0.084956    0.194444\n",
      "~~~~~~~~~~~~~~~~~~~~~~~~~~~~~~~~~~~ Second iteration ~~~~~~~~~~~~~~~~~~~~~~~~~~~~~~~~~~~\n",
      "    task_id  time_coeff  step_coeff\n",
      "21     1001    0.705997    0.250000\n",
      "22     1002    0.698155    0.444444\n",
      "23     1003    1.072931    0.333333\n",
      "24     1004    0.483372    0.555556\n",
      "25     1005    0.633328    0.555556\n",
      "26     1006    0.416345    0.555556\n",
      "27     1007    0.506468    0.168056\n",
      "28     1008    0.762710    0.444444\n",
      "29     1009    0.381228    0.312500\n",
      "30     1010    0.384520    0.194444\n",
      "31     1011    0.230737    0.156250\n",
      "32     1012    0.240725    0.110000\n",
      "33     1013    0.180361    0.129630\n",
      "34     1014    0.121915    0.094675\n",
      "35     1015    0.073508    0.057851\n",
      "36     1016    0.420783    0.156250\n",
      "39     1019    0.414662    0.163265\n",
      "40     1020    0.133420    0.135802\n",
      "41     1021    0.080901    0.087891\n",
      "42     1022    0.076877    0.099174\n"
     ]
    }
   ],
   "source": [
    "wins: pd.DataFrame = math_log.query(\"action == 'win'\").copy()\n",
    "wins.query(\"user_game_identifier in @valuable_players_list\", inplace=True)\n",
    "levels: pd.DataFrame = wins.groupby([\"task_id\", \"curr_time_ms\", \"curr_steps_number\"]).size().reset_index(name=\"count\")\n",
    "levels.drop([\"count\"], axis=1, inplace=True)\n",
    "levels_median: pd.DataFrame = levels.groupby(\"task_id\", as_index=False).median()\n",
    "levels_median[\"curr_time_s\"] = levels_median[\"curr_time_ms\"] / 1000\n",
    "#print(levels_median)\n",
    "\n",
    "levels_min: pd.DataFrame = levels.groupby(\"task_id\", as_index=False).min()\n",
    "levels_min[\"curr_time_s\"] = levels_min[\"curr_time_ms\"] / 1000\n",
    "\n",
    "levels_min.at[32, \"curr_time_s\"] = 17.0\n",
    "levels_min.at[32, \"curr_steps_number\"] = 10.0\n",
    "levels_min.at[33, \"curr_time_s\"] = 22.0\n",
    "levels_min.at[33, \"curr_steps_number\"] = 9.0\n",
    "\n",
    "#print(levels_min)\n",
    "\n",
    "levels_effect = pd.DataFrame()\n",
    "levels_effect[\"task_id\"] = levels_median[\"task_id\"]\n",
    "levels_effect[\"time_coeff\"] = levels_median[\"curr_time_s\"] / levels_min[\"curr_time_s\"] ** 2\n",
    "levels_effect[\"step_coeff\"] = levels_median[\"curr_steps_number\"] / levels_min[\"curr_steps_number\"] ** 2\n",
    "\n",
    "first_iter_effect: pd.DataFrame = levels_effect[(levels_effect[\"task_id\"] >= 100) & (levels_effect[\"task_id\"] <= 120)].copy()\n",
    "second_iter_effect: pd.DataFrame = levels_effect[(levels_effect[\"task_id\"] >= 1000) & (levels_effect[\"task_id\"] <= 1022)].copy()\n",
    "first_iter_effect = first_iter_effect.reindex([0, 1, 4, 5, 6, 7, 11, 12, 13, 20, 18, 3, 9, 8, 10, 14, 16, 2, 17, 15, 19])\n",
    "second_iter_effect.drop([37, 38], inplace=True)\n",
    "print(\"~~~~~~~~~~~~~~~~~~~~~~~~~~~~~~~~~~~ First iteration ~~~~~~~~~~~~~~~~~~~~~~~~~~~~~~~~~~~\")\n",
    "print(first_iter_effect)\n",
    "print(\"~~~~~~~~~~~~~~~~~~~~~~~~~~~~~~~~~~~ Second iteration ~~~~~~~~~~~~~~~~~~~~~~~~~~~~~~~~~~~\")\n",
    "print(second_iter_effect)"
   ]
  },
  {
   "cell_type": "markdown",
   "metadata": {
    "pycharm": {
     "name": "#%% md\n"
    }
   },
   "source": [
    "Рассмотрим общие графики для двух итераций.\n",
    "\n",
    "Сначала по времени прохождения уровней:"
   ]
  },
  {
   "cell_type": "code",
   "execution_count": 10,
   "metadata": {
    "pycharm": {
     "name": "#%%\n"
    },
    "scrolled": false
   },
   "outputs": [
    {
     "name": "stdout",
     "output_type": "stream",
     "text": [
      "[-0.02059428  0.3911234 ]\n",
      "[-0.03686837  0.78806494]\n"
     ]
    },
    {
     "data": {
      "text/plain": [
       "<matplotlib.legend.Legend at 0x155e1a71c48>"
      ]
     },
     "execution_count": 10,
     "metadata": {},
     "output_type": "execute_result"
    },
    {
     "data": {
      "image/png": "[encoded data removed]",
      "text/plain": [
       "<Figure size 1440x720 with 2 Axes>"
      ]
     },
     "metadata": {
      "needs_background": "light"
     },
     "output_type": "display_data"
    }
   ],
   "source": [
    "plt.figure(figsize=(20, 10))\n",
    "plt.subplot(1, 2, 1)\n",
    "\n",
    "plt.title(\"Первая итерация. Время прохождения\")\n",
    "plt.xlabel(\"Уровни в игровом порядке\")\n",
    "plt.ylabel(\"Время прохождения, сек\")\n",
    "\n",
    "x_first = np.asarray(list(range(1, 22)))\n",
    "y_first = first_iter_effect[\"time_coeff\"].to_numpy()\n",
    "plt.plot(x_first, y_first, \"o\")\n",
    "k1 = np.polyfit(x_first, y_first, 1)\n",
    "print(k1)\n",
    "plt.plot(x_first, np.polyval(k1, x_first), \"--\", label=\"{:.3f}*x+{:.3f}\".format(k1[0], k1[1]))\n",
    "plt.legend(loc=2)\n",
    "\n",
    "plt.subplot(1, 2, 2)\n",
    "\n",
    "plt.title(\"Вторая итерация. Время прохождения\")\n",
    "plt.xlabel(\"Уровни в игровом порядке\")\n",
    "plt.ylabel(\"Время прохождения, сек\")\n",
    "\n",
    "x_second = np.asarray(list(range(1, 21)))\n",
    "y_second = second_iter_effect[\"time_coeff\"].to_numpy()\n",
    "plt.plot(x_second, y_second, \"o\")\n",
    "k2 = np.polyfit(x_second, y_second, 1)\n",
    "print(k2)\n",
    "plt.plot(x_second, np.polyval(k2, x_second), \"--\", label=\"{:.3f}*x+{:.3f}\".format(k2[0], k2[1]))\n",
    "plt.legend(loc=2)"
   ]
  },
  {
   "cell_type": "markdown",
   "metadata": {},
   "source": [
    "Теперь по шагам:"
   ]
  },
  {
   "cell_type": "code",
   "execution_count": 11,
   "metadata": {},
   "outputs": [
    {
     "name": "stdout",
     "output_type": "stream",
     "text": [
      "[-0.01422532  0.42964002]\n",
      "[-0.02149999  0.47598373]\n"
     ]
    },
    {
     "data": {
      "text/plain": [
       "<matplotlib.legend.Legend at 0x155e1770f88>"
      ]
     },
     "execution_count": 11,
     "metadata": {},
     "output_type": "execute_result"
    },
    {
     "data": {
      "image/png": "[encoded data removed]",
      "text/plain": [
       "<Figure size 1440x720 with 2 Axes>"
      ]
     },
     "metadata": {
      "needs_background": "light"
     },
     "output_type": "display_data"
    }
   ],
   "source": [
    "plt.figure(figsize=(20, 10))\n",
    "plt.subplot(1, 2, 1)\n",
    "\n",
    "plt.title(\"Первая итерация. Шаги\")\n",
    "plt.xlabel(\"Уровни в игровом порядке\")\n",
    "plt.ylabel(\"Шаги\")\n",
    "\n",
    "x_first = np.asarray(list(range(1, 22)))\n",
    "y_first = first_iter_effect[\"step_coeff\"].to_numpy()\n",
    "plt.plot(x_first, y_first, \"o\")\n",
    "k1 = np.polyfit(x_first, y_first, 1)\n",
    "print(k1)\n",
    "plt.plot(x_first, k1[0] * x_first + k1[1], \"--\", label=\"{:.3f}*x+{:.3f}\".format(k1[0], k1[1]))\n",
    "plt.legend()\n",
    "\n",
    "plt.subplot(1, 2, 2)\n",
    "\n",
    "plt.title(\"Вторая итерация. Шаги\")\n",
    "plt.xlabel(\"Уровни в игровом порядке\")\n",
    "plt.ylabel(\"Шаги\")\n",
    "\n",
    "x_second = np.asarray(list(range(1, 21)))\n",
    "y_second = second_iter_effect[\"step_coeff\"].to_numpy()\n",
    "plt.plot(x_second, y_second, \"o\")\n",
    "k2 = np.polyfit(x_second, y_second, 1)\n",
    "print(k2)\n",
    "plt.plot(x_second, k2[0] * x_second + k2[1], \"--\", label=\"{:.3f}*x+{:.3f}\".format(k2[0], k2[1]))\n",
    "plt.legend()"
   ]
  },
  {
   "cell_type": "markdown",
   "metadata": {
    "pycharm": {
     "name": "#%% md\n"
    }
   },
   "source": [
    "Если для первой итерации можно считать все уровни однотипными, то со второй посложнее.\n",
    "Рассмотрим поподробнее вторую итерацию.\n",
    "\n",
    "Разобъем уровни на 3 однотипные подгруппы:\n",
    "1. Уровни на докозательства\n",
    "2. Уровни на приведение к нормальным формам (КНФ, ДНФ и разновидности)\n",
    "3. Уровни на метод резолюций"
   ]
  },
  {
   "cell_type": "code",
   "execution_count": 12,
   "metadata": {},
   "outputs": [],
   "source": [
    "prove_levels_id = [1001, 1003, 1007, 1010, 1011, 1014, 1015, 1016]\n",
    "norm_form_levels_id = [1002, 1004, 1005, 1006, 1008, 1012, 1013] #, 1017, 1018]\n",
    "resolution_levels_id = [1009, 1019, 1020, 1021, 1022]\n",
    "prove_levels = second_iter_effect.query(\"task_id in @prove_levels_id\")\n",
    "norm_form_levels = second_iter_effect.query(\"task_id in @norm_form_levels_id\")\n",
    "resolution_levels = second_iter_effect.query(\"task_id in @resolution_levels_id\")"
   ]
  },
  {
   "cell_type": "markdown",
   "metadata": {
    "pycharm": {
     "name": "#%% md\n"
    }
   },
   "source": [
    "Построим графики и посмотрим, как менялось время и количество шагов в процессе игры."
   ]
  },
  {
   "cell_type": "code",
   "execution_count": 13,
   "metadata": {
    "pycharm": {
     "name": "#%%\n"
    }
   },
   "outputs": [
    {
     "name": "stdout",
     "output_type": "stream",
     "text": [
      "[-0.0484282   0.90572892]\n",
      "[-0.04028715  0.77562171]\n",
      "[-0.02181187  0.6143934 ]\n",
      "[-0.01295529  0.30105207]\n",
      "[-0.04147099  0.69553352]\n",
      "[-0.01694034  0.46804064]\n"
     ]
    },
    {
     "data": {
      "text/plain": [
       "<matplotlib.legend.Legend at 0x155de338c88>"
      ]
     },
     "execution_count": 13,
     "metadata": {},
     "output_type": "execute_result"
    },
    {
     "data": {
      "image/png": "[encoded data removed]",
      "text/plain": [
       "<Figure size 1440x720 with 2 Axes>"
      ]
     },
     "metadata": {
      "needs_background": "light"
     },
     "output_type": "display_data"
    }
   ],
   "source": [
    "plt.figure(figsize=(20, 10))\n",
    "plt.subplot(1, 2, 1)\n",
    "\n",
    "plt.title(\"Вторая итерация. Время прохождения. Подробнее\")\n",
    "plt.xlabel(\"Уровни в игровом порядке\")\n",
    "plt.ylabel(\"Время прохождения, сек\")\n",
    "\n",
    "x = prove_levels[\"task_id\"].to_numpy() % 1000\n",
    "y = prove_levels[\"time_coeff\"].to_numpy()\n",
    "plt.plot(x, y, \"bo\", label=\"Уровни на доказательство\")\n",
    "k = np.polyfit(x, y, 1)\n",
    "print(k)\n",
    "plt.plot(x, k[0] * x + k[1], \"b--\", label=\"{:.3f}*x+{:.3f}\".format(k[0], k[1]))\n",
    "\n",
    "x = norm_form_levels[\"task_id\"].to_numpy() % 1000\n",
    "y = norm_form_levels[\"time_coeff\"].to_numpy()\n",
    "plt.plot(x, y, 'ro', label=\"Уровни на прив-ие к норм формам\")\n",
    "k = np.polyfit(x, y, 1)\n",
    "print(k)\n",
    "plt.plot(x, k[0] * x + k[1], \"r--\", label=\"{:.3f}*x+{:.3f}\".format(k[0], k[1]))\n",
    "\n",
    "x = resolution_levels[\"task_id\"].to_numpy() % 1000\n",
    "y = resolution_levels[\"time_coeff\"].to_numpy()\n",
    "plt.plot(x, y, 'go', label=\"Уровни на прим-ие метода резолюций\")\n",
    "k = np.polyfit(x, y, 1)\n",
    "print(k)\n",
    "plt.plot(x, k[0] * x + k[1], \"g--\", label=\"{:.3f}*x+{:.3f}\".format(k[0], k[1]))\n",
    "\n",
    "plt.legend(title=\"Пояснение\")\n",
    "\n",
    "\"\"\"~~~~~~~~~~~~~~~~~~~~~~~~~~~~~~~~~~~~~~~~~~~~~~~~~~~~~~~~ Steps ~~~~~~~~~~~~~~~~~~~~~~~~~~~~~~~~~~~~~~~~~~~~~~~~~~~~~~~~\"\"\"\n",
    "plt.subplot(1, 2, 2)\n",
    "\n",
    "plt.title(\"Вторая итерация. Шаги. Подробнее\")\n",
    "plt.xlabel(\"Уровни в игровом порядке\")\n",
    "plt.ylabel(\"Шаги\")\n",
    "\n",
    "x = prove_levels[\"task_id\"].to_numpy() % 1000\n",
    "y = prove_levels[\"step_coeff\"].to_numpy()\n",
    "plt.plot(x, y, \"bo\", label=\"Уровни на доказательство\")\n",
    "k = np.polyfit(x, y, 1)\n",
    "print(k)\n",
    "plt.plot(x, k[0] * x + k[1], \"b--\", label=\"{:.3f}*x+{:.3f}\".format(k[0], k[1]))\n",
    "\n",
    "x = norm_form_levels[\"task_id\"].to_numpy() % 1000\n",
    "y = norm_form_levels[\"step_coeff\"].to_numpy()\n",
    "plt.plot(x, y, 'ro', label=\"Уровни на прив-ие к норм формам\")\n",
    "k = np.polyfit(x, y, 1)\n",
    "print(k)\n",
    "plt.plot(x, k[0] * x + k[1], \"r--\", label=\"{:.3f}*x+{:.3f}\".format(k[0], k[1]))\n",
    "\n",
    "x = resolution_levels[\"task_id\"].to_numpy() % 1000\n",
    "y = resolution_levels[\"step_coeff\"].to_numpy()\n",
    "plt.plot(x, y, 'go', label=\"Уровни на прим-ие метода резолюций\")\n",
    "k = np.polyfit(x, y, 1)\n",
    "print(k)\n",
    "plt.plot(x, k[0] * x + k[1], \"g--\", label=\"{:.3f}*x+{:.3f}\".format(k[0], k[1]))\n",
    "\n",
    "plt.legend(title=\"Пояснение\")"
   ]
  },
  {
   "cell_type": "markdown",
   "metadata": {},
   "source": [
    "### Вывод\n",
    "\n",
    "1. Исходя из угла наклона линии тренда, игра действительно обучает.\n",
    "\n",
    "2. Стоит заметить, что угол наклона во второй итерации больше, а значит игра стала более эффективная!\n",
    "\n",
    "3. Если рассматривать вторую итерацию более подробно, то можно заметить, что, исходя из углов наклона линий трендов, студентам легче дались задачи на доказательства и тяжелее на резолюцию."
   ]
  },
  {
   "cell_type": "markdown",
   "metadata": {
    "pycharm": {
     "name": "#%% md\n"
    }
   },
   "source": [
    "## Сравнение итераций\n",
    "\n",
    "Рассмотрим статистику по действиям пользователей в процессе игры за время двух итераций и сравним."
   ]
  },
  {
   "cell_type": "code",
   "execution_count": 14,
   "metadata": {
    "pycharm": {
     "name": "#%%\n"
    }
   },
   "outputs": [
    {
     "name": "stdout",
     "output_type": "stream",
     "text": [
      "~~~~~~~~~~~~~~~~~~~~~~~~~~~~~~~~~~~~~~~~~~~~ Среднее количество всех действий на каждый уровень ~~~~~~~~~~~~~~~~~~~~~~~~~~~~~~~~~~~~~~~~~~~~\n",
      "    task_id  all_actions_sum_count\n",
      "0       100                   56.0\n",
      "1       101                  133.0\n",
      "2       102                   80.0\n",
      "3       103                   24.5\n",
      "4       104                   56.0\n",
      "5       105                   97.0\n",
      "6       106                   27.0\n",
      "7       107                   23.0\n",
      "8       108                   48.0\n",
      "9       109                   22.0\n",
      "10      110                   20.0\n",
      "11      111                   15.0\n",
      "12      112                   15.0\n",
      "13      113                   11.5\n",
      "14      114                   62.0\n",
      "15      115                  130.0\n",
      "16      116                   14.0\n",
      "17      117                   39.5\n",
      "18      118                   10.0\n",
      "19      119                   21.5\n",
      "20      120                   38.5\n",
      "21     1001                  180.0\n",
      "22     1002                   37.0\n",
      "23     1003                   31.0\n",
      "24     1004                   20.5\n",
      "25     1005                   28.0\n",
      "26     1006                   19.5\n",
      "27     1007                   70.5\n",
      "28     1008                   30.0\n",
      "29     1009                  168.0\n",
      "30     1010                  251.5\n",
      "31     1011                  146.5\n",
      "32     1012                  162.5\n",
      "33     1013                  172.0\n",
      "34     1014                  225.0\n",
      "35     1015                  495.5\n",
      "36     1016                  104.0\n",
      "37     1017                  783.5\n",
      "38     1018                  297.0\n",
      "39     1019                   97.5\n",
      "40     1020                   63.0\n",
      "41     1021                  323.5\n",
      "42     1022                  127.5\n"
     ]
    }
   ],
   "source": [
    "level_actions = [\"place\", \"rule\", \"undo\"]\n",
    "start_actions = [\"start\"]\n",
    "end_actions = [\"restart\", \"menu\", \"win\", \"loose\"]\n",
    "wrong_task_ids = [0, 1023, 1024, 1025, 1026]\n",
    "necessary_actions = level_actions + start_actions + end_actions\n",
    "\n",
    "all_actions: pd.DataFrame = math_log[[\"user_game_identifier\", \"task_id\", \"action\"]]\\\n",
    "    .query(\"user_game_identifier in @valuable_players_list and \"\n",
    "           \"action in @necessary_actions and \"\n",
    "           \"task_id not in @wrong_task_ids\").copy()\n",
    "all_actions_by_user_stat: pd.DataFrame = all_actions.groupby([\"user_game_identifier\", \"task_id\"], as_index=False)\\\n",
    "    .size().reset_index(name=\"all_actions_sum_count\")\n",
    "all_actions_stat: pd.DataFrame = all_actions_by_user_stat.drop([\"user_game_identifier\"], axis=1)\\\n",
    "    .groupby(\"task_id\", as_index=False).median()\n",
    "print(\"~~~~~~~~~~~~~~~~~~~~~~~~~~~~~~~~~~~~~~~~~~~~ Среднее количество всех действий на каждый уровень ~~~~~~~~~~~~~~~~~~~~~~~~~~~~~~~~~~~~~~~~~~~~\")\n",
    "print(all_actions_stat)"
   ]
  },
  {
   "cell_type": "markdown",
   "metadata": {
    "pycharm": {
     "name": "#%% md\n"
    }
   },
   "source": [
    "Посмотрим, сколько запускали каждый уровень. Будем считать, что таким образом мы получили среднее количество \"игор\"\n",
    "в каждый уровень. Таким образом мы сможем усреднить значения из таблицы выше и получить среднее количество действий за\n",
    "одну игру с каждым уровнем."
   ]
  },
  {
   "cell_type": "code",
   "execution_count": 15,
   "metadata": {
    "pycharm": {
     "name": "#%%\n"
    }
   },
   "outputs": [
    {
     "name": "stdout",
     "output_type": "stream",
     "text": [
      "Медиана количества всевозможных действий на *первую* итерацию: 12.833333333333334\n",
      "Медиана количества всевозможных действий на *вторую* итерацию: 22.25\n",
      "Отношение: 1.7337662337662336\n"
     ]
    }
   ],
   "source": [
    "start_actions_by_user_stat: pd.DataFrame = all_actions.query(\"action in @start_actions\")\\\n",
    "    .groupby([\"user_game_identifier\", \"task_id\"], as_index=False)\\\n",
    "    .size().reset_index(name=\"start_actions_count\")\n",
    "start_actions_stat: pd.DataFrame = start_actions_by_user_stat.drop([\"user_game_identifier\"], axis=1)\\\n",
    "    .groupby(\"task_id\", as_index=False).median()\n",
    "all_actions_stat[\"start_actions_median\"] = start_actions_stat[\"start_actions_count\"]\n",
    "all_actions_stat[\"all_actions_each_count\"] = all_actions_stat[\"all_actions_sum_count\"] / all_actions_stat[\"start_actions_median\"]\n",
    "#print(all_actions_stat)\n",
    "first_iter_all_info = all_actions_stat.loc[0:20][\"all_actions_each_count\"].median()\n",
    "second_iter_all_info = all_actions_stat.loc[21:42][\"all_actions_each_count\"].median()\n",
    "print(\"Медиана количества всевозможных действий на *первую* итерацию: {}\".format(first_iter_all_info))\n",
    "print(\"Медиана количества всевозможных действий на *вторую* итерацию: {}\".format(second_iter_all_info))\n",
    "print(\"Отношение: {}\".format(second_iter_all_info / first_iter_all_info))"
   ]
  },
  {
   "cell_type": "markdown",
   "metadata": {
    "pycharm": {
     "name": "#%% md\n"
    }
   },
   "source": [
    "**Промежуточный вывод**\n",
    "\n",
    "Количество действий на уровень в среднем увеличилось во второй итерации почти в 2 раза! А значит игра стала сложнее и требует больше взаимодействия от пользователя."
   ]
  },
  {
   "cell_type": "code",
   "execution_count": 16,
   "metadata": {
    "pycharm": {
     "name": "#%%\n"
    },
    "scrolled": false
   },
   "outputs": [
    {
     "name": "stdout",
     "output_type": "stream",
     "text": [
      "         first_iteration  second_iteration      diff\n",
      "menu                 1.8          3.654762  2.030423\n",
      "restart              3.0          7.556452  2.518817\n",
      "win                  1.0          1.596059  1.596059\n"
     ]
    },
    {
     "data": {
      "image/png": "[encoded data removed]",
      "text/plain": [
       "<Figure size 432x288 with 1 Axes>"
      ]
     },
     "metadata": {
      "needs_background": "light"
     },
     "output_type": "display_data"
    }
   ],
   "source": [
    "end_actions_by_user_stat: pd.DataFrame = all_actions.query(\"action in @end_actions\")\\\n",
    "    .groupby([\"user_game_identifier\", \"task_id\", \"action\"], as_index=False)\\\n",
    "    .size().reset_index(name=\"actions_count\")\n",
    "end_actions_stat: pd.DataFrame = end_actions_by_user_stat.drop([\"user_game_identifier\"], axis=1)\\\n",
    "    .groupby([\"task_id\", \"action\"], as_index=False).mean()\n",
    "#print(end_actions_stat)\n",
    "first_iter = end_actions_stat.loc[0:72].drop(\"task_id\", axis=1).groupby(\"action\").median().drop(\"loose\")\n",
    "second_iter = end_actions_stat.loc[73:138].drop(\"task_id\", axis=1).groupby(\"action\").median()\n",
    "summary = pd.DataFrame(index=[\"menu\", \"restart\", \"win\"])\n",
    "summary[\"first_iteration\"] = first_iter[\"actions_count\"]\n",
    "summary[\"second_iteration\"] = second_iter[\"actions_count\"]\n",
    "summary.plot.bar()\n",
    "summary[\"diff\"] = summary[\"second_iteration\"] / summary[\"first_iteration\"]\n",
    "print(summary)"
   ]
  },
  {
   "cell_type": "markdown",
   "metadata": {
    "pycharm": {
     "name": "#%% md\n"
    }
   },
   "source": [
    "**Промежуточный вывод**\n",
    "\n",
    "1. Судя по увеличению количества перезапусков и выходов в меню (более чем в 2 раза!), игра стала более сложная  \n",
    "2. Судя по увеличению количества побед более чем в 1.5 раза, игра стала более мотивирующей и интересной"
   ]
  },
  {
   "cell_type": "code",
   "execution_count": 17,
   "metadata": {
    "pycharm": {
     "name": "#%%\n"
    },
    "scrolled": false
   },
   "outputs": [
    {
     "name": "stdout",
     "output_type": "stream",
     "text": [
      "     task_id action  actions_count\n",
      "0        100  place           24.0\n",
      "1        100   rule            8.0\n",
      "2        100   undo            4.0\n",
      "3        101  place           84.0\n",
      "4        101   rule           32.0\n",
      "5        101   undo            5.0\n",
      "6        102  place           43.0\n",
      "7        102   rule           28.0\n",
      "8        102   undo            3.0\n",
      "9        103  place           14.0\n",
      "10       103   rule            6.0\n",
      "11       103   undo            2.5\n",
      "12       104  place           30.0\n",
      "13       104   rule           16.0\n",
      "14       104   undo            2.0\n",
      "15       105  place           48.0\n",
      "16       105   rule           22.0\n",
      "17       105   undo           15.0\n",
      "18       106  place           15.0\n",
      "19       106   rule            9.0\n",
      "20       106   undo            3.0\n",
      "21       107  place            9.0\n",
      "22       107   rule            5.0\n",
      "23       107   undo            3.5\n",
      "24       108  place           25.0\n",
      "25       108   rule           12.0\n",
      "26       108   undo            5.0\n",
      "27       109  place            8.0\n",
      "28       109   rule            7.0\n",
      "29       109   undo            1.5\n",
      "30       110  place           11.0\n",
      "31       110   rule            6.0\n",
      "32       110   undo            3.0\n",
      "33       111  place            8.5\n",
      "34       111   rule            3.5\n",
      "35       111   undo           12.0\n",
      "36       112  place            8.0\n",
      "37       112   rule            4.5\n",
      "38       112   undo            1.0\n",
      "39       113  place            6.0\n",
      "40       113   rule            3.0\n",
      "41       113   undo            2.0\n",
      "42       114  place           36.0\n",
      "43       114   rule           14.0\n",
      "44       114   undo            2.0\n",
      "45       115  place           83.0\n",
      "46       115   rule           36.0\n",
      "47       115   undo           13.5\n",
      "48       116  place            7.0\n",
      "49       116   rule            5.0\n",
      "50       116   undo            1.0\n",
      "51       117  place           29.0\n",
      "52       117   rule           12.0\n",
      "53       117   undo            3.0\n",
      "54       118  place            5.0\n",
      "55       118   rule            3.0\n",
      "56       118   undo            2.0\n",
      "57       119  place            9.0\n",
      "58       119   rule            7.0\n",
      "59       119   undo            3.0\n",
      "60       120  place           15.5\n",
      "61       120   rule            9.0\n",
      "62       120   undo            3.0\n",
      "63      1001  place           91.0\n",
      "64      1001   rule           51.0\n",
      "65      1001   undo            8.0\n",
      "66      1002  place           17.0\n",
      "67      1002   rule           10.0\n",
      "68      1002   undo            7.0\n",
      "69      1003  place           14.0\n",
      "70      1003   rule            8.5\n",
      "71      1003   undo            5.0\n",
      "72      1004  place            9.5\n",
      "73      1004   rule            5.5\n",
      "74      1004   undo            2.5\n",
      "75      1005  place           13.5\n",
      "76      1005   rule            8.0\n",
      "77      1005   undo            3.0\n",
      "78      1006  place           10.0\n",
      "79      1006   rule            7.0\n",
      "80      1006   undo            2.5\n",
      "81      1007  place           40.5\n",
      "82      1007   rule           19.5\n",
      "83      1007   undo            4.0\n",
      "84      1008  place           17.5\n",
      "85      1008   rule            8.0\n",
      "86      1008   undo            4.0\n",
      "87      1009  place          102.0\n",
      "88      1009   rule           36.5\n",
      "89      1009   undo            6.0\n",
      "90      1010  place          127.0\n",
      "91      1010   rule           80.5\n",
      "92      1010   undo            7.5\n",
      "93      1011  place           83.0\n",
      "94      1011   rule           46.0\n",
      "95      1011   undo           12.0\n",
      "96      1012  place           97.0\n",
      "97      1012   rule           52.5\n",
      "98      1012   undo            5.0\n",
      "99      1013  place           96.5\n",
      "100     1013   rule           49.5\n",
      "101     1013   undo            6.0\n",
      "102     1014  place          121.0\n",
      "103     1014   rule           72.5\n",
      "104     1014   undo            5.0\n",
      "105     1015  place          278.5\n",
      "106     1015   rule          162.5\n",
      "107     1015   undo           12.5\n",
      "108     1016  place           53.0\n",
      "109     1016   rule           35.0\n",
      "110     1016   undo            9.5\n",
      "111     1017  place          474.0\n",
      "112     1017   rule          261.0\n",
      "113     1017   undo           41.0\n",
      "114     1018  place          202.0\n",
      "115     1018   rule          132.5\n",
      "116     1018   undo            9.0\n",
      "117     1019  place           49.0\n",
      "118     1019   rule           28.0\n",
      "119     1019   undo            3.5\n",
      "120     1020  place           32.0\n",
      "121     1020   rule           22.0\n",
      "122     1020   undo            2.0\n",
      "123     1021  place          168.0\n",
      "124     1021   rule          119.0\n",
      "125     1021   undo            8.0\n",
      "126     1022  place           67.5\n",
      "127     1022   rule           43.5\n",
      "128     1022   undo            5.0\n",
      "~~~~~~~~~~~~~~~~~~~~~~~~~~~ Summary ~~~~~~~~~~~~~~~~~~~~~~~~~~~\n",
      "       first_iteration  second_iteration      diff\n",
      "place             15.0             75.25  5.016667\n",
      "rule               8.0             40.00  5.000000\n",
      "undo               3.0              5.50  1.833333\n"
     ]
    },
    {
     "data": {
      "image/png": "[encoded data removed]",
      "text/plain": [
       "<Figure size 432x288 with 1 Axes>"
      ]
     },
     "metadata": {
      "needs_background": "light"
     },
     "output_type": "display_data"
    }
   ],
   "source": [
    "level_actions_by_user_stat: pd.DataFrame = all_actions.query(\"action in @level_actions\")\\\n",
    "    .groupby([\"user_game_identifier\", \"task_id\", \"action\"], as_index=False)\\\n",
    "    .size().reset_index(name=\"actions_count\")\n",
    "level_actions_stat: pd.DataFrame = level_actions_by_user_stat.drop([\"user_game_identifier\"], axis=1)\\\n",
    "    .groupby([\"task_id\", \"action\"], as_index=False).median()\n",
    "print(level_actions_stat)\n",
    "first_iter = level_actions_stat.loc[0:62].drop(\"task_id\", axis=1).groupby(\"action\").median()\n",
    "second_iter = level_actions_stat.loc[63:128].drop(\"task_id\", axis=1).groupby(\"action\").median()\n",
    "summary = pd.DataFrame(index=[\"place\", \"rule\", \"undo\"])\n",
    "summary[\"first_iteration\"] = first_iter[\"actions_count\"]\n",
    "summary[\"second_iteration\"] = second_iter[\"actions_count\"]\n",
    "summary.plot.bar()\n",
    "summary[\"diff\"] = summary[\"second_iteration\"] / summary[\"first_iteration\"]\n",
    "print(\"~~~~~~~~~~~~~~~~~~~~~~~~~~~ Summary ~~~~~~~~~~~~~~~~~~~~~~~~~~~\")\n",
    "print(summary)"
   ]
  },
  {
   "cell_type": "markdown",
   "metadata": {
    "pycharm": {
     "name": "#%% md\n"
    }
   },
   "source": [
    "**Промежуточный вывод**\n",
    "\n",
    "Во второй итерации на уровни потребовалось в 5 раз больше тыков на формулу и правила\n",
    "Игроки стале чаще использовать \"шаг назад\" \n",
    "\n",
    "*Nota Bene:*\n",
    "Проглядывается, что:\n",
    "1. `place ~ rule * 2`  \n",
    "2. `undo` ~ показатель сложности уровня?"
   ]
  },
  {
   "cell_type": "markdown",
   "metadata": {},
   "source": [
    "# TODO\n",
    "1. Посмотреть для каждого игрока разность между place  \n",
    "  * Вообще убрать все остальные действия и просто посмотреть на place и разность\n",
    "  * Посмотреть для каждого уровня (?)\n",
    "  * Посмотреть для каждого уровня для каждого запуска (?)\n",
    "2. undo_considering_policy?\n",
    "3. Как учесть различные коэффициенты для каждого игрока?"
   ]
  }
 ],
 "metadata": {
  "kernelspec": {
   "display_name": "Python 3",
   "language": "python",
   "name": "python3"
  },
  "language_info": {
   "codemirror_mode": {
    "name": "ipython",
    "version": 3
   },
   "file_extension": ".py",
   "mimetype": "text/x-python",
   "name": "python",
   "nbconvert_exporter": "python",
   "pygments_lexer": "ipython3",
   "version": "3.7.6"
  }
 },
 "nbformat": 4,
 "nbformat_minor": 1
}
